{
 "cells": [
  {
   "cell_type": "code",
   "execution_count": 1,
   "metadata": {},
   "outputs": [],
   "source": [
    "import pandas as pd\n",
    "import seaborn as sns\n",
    "import matplotlib.pyplot as plt\n",
    "from sklearn.preprocessing import LabelEncoder, StandardScaler\n",
    "from sklearn.model_selection import train_test_split, cross_val_score\n",
    "from sklearn.feature_selection import SelectKBest\n",
    "from sklearn.linear_model import LinearRegression\n",
    "from sklearn.ensemble import RandomForestClassifier\n",
    "from sklearn.metrics import mean_squared_error, accuracy_score\n"
   ]
  },
  {
   "cell_type": "code",
   "execution_count": null,
   "metadata": {},
   "outputs": [],
   "source": [
    "# Carregar o conjunto de dados do arquivo Excel\n",
    "data = pd.read_excel('caminho_do_arquivo.xlsx')\n",
    "\n",
    "# Verificar o tamanho do conjunto de dados\n",
    "n_linhas, n_colunas = data.shape\n",
    "print(f\"Número de linhas: {n_linhas}\")\n",
    "print(f\"Número de colunas: {n_colunas}\")\n",
    "\n",
    "# Identificar o tipo de cada variável\n",
    "tipos_variaveis = data.dtypes\n",
    "print(\"Tipos de variáveis:\")\n",
    "print(tipos_variaveis)\n",
    "\n",
    "# Analisar estatísticas descritivas básicas para variáveis numéricas\n",
    "descritivo_numerico = data.describe()\n",
    "print(\"Estatísticas descritivas básicas para variáveis numéricas:\")\n",
    "print(descritivo_numerico)\n",
    "\n",
    "# Verificar a presença de valores ausentes ou dados inconsistentes\n",
    "valores_ausentes = data.isnull().sum()\n",
    "print(\"Valores ausentes por coluna:\")\n",
    "print(valores_ausentes)\n"
   ]
  }
 ],
 "metadata": {
  "kernelspec": {
   "display_name": "Python 3",
   "language": "python",
   "name": "python3"
  },
  "language_info": {
   "codemirror_mode": {
    "name": "ipython",
    "version": 3
   },
   "file_extension": ".py",
   "mimetype": "text/x-python",
   "name": "python",
   "nbconvert_exporter": "python",
   "pygments_lexer": "ipython3",
   "version": "3.10.6"
  },
  "orig_nbformat": 4
 },
 "nbformat": 4,
 "nbformat_minor": 2
}
